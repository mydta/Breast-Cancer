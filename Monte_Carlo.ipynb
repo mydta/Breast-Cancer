{
 "cells": [
  {
   "cell_type": "code",
   "execution_count": 140,
   "id": "06e2e395",
   "metadata": {},
   "outputs": [],
   "source": [
    "import pandas as pd\n",
    "import numpy as np\n",
    "import matplotlib.pyplot as plt\n",
    "import random \n",
    "\n",
    "from sklearn import metrics\n",
    "from sklearn.metrics import precision_score\n",
    "from sklearn.metrics import recall_score\n",
    "from sklearn.metrics import f1_score\n",
    "from sklearn.metrics import roc_curve, auc\n",
    "from sklearn.metrics import accuracy_score\n",
    "from sklearn.svm import LinearSVC\n",
    "from sklearn.cluster import KMeans\n",
    "from sklearn.neighbors import NearestNeighbors\n",
    "from sklearn.model_selection import GridSearchCV,train_test_split\n",
    "from sklearn.preprocessing import MinMaxScaler\n",
    "from sklearn.cluster import SpectralClustering\n",
    "import warnings\n",
    "warnings.filterwarnings('ignore')\n"
   ]
  },
  {
   "cell_type": "markdown",
   "id": "9b08a249",
   "metadata": {},
   "source": [
    "(a)\n",
    "Download the Breast Cancer Wisconsin (Diagnostic) Data Set from:\n",
    "https://archive.ics.uci.edu/ml/datasets/Breast+Cancer+Wisconsin+\n",
    "%28Diagnostic%29\n",
    ". Download the data in\n",
    "https://archive.ics.uci.edu/ml/\n",
    "machine-learning-databases/breast-cancer-wisconsin/wdbc.data\n",
    ", which\n",
    "has IDs, classes (Benign=B, Malignant=M), and 30 attributes. This data has\n",
    "two output classes."
   ]
  },
  {
   "cell_type": "code",
   "execution_count": 12,
   "id": "5033a838",
   "metadata": {},
   "outputs": [],
   "source": [
    "dataset = pd.read_csv('../data/wdbc.data', header = None)\n",
    "cols=['ID','Diagnosis','Attr_1','Attr_2','Attr_3',\n",
    "      'Attr_4','Attr_5','Attr_6','Attr_7','Attr_8',\n",
    "      'Attr_9','Attr_10','Attr_11','Attr_12','Attr_13',\n",
    "      'Attr_14','Attr_15','Attr_16','Attr_17','Attr_18',\n",
    "      'Attr_19','Attr_20','Attr_21','Attr_22','Attr_23',\n",
    "      'Attr_24','Attr_25','Attr_26','Attr_27','Attr_28','Attr_29','Attr_30']\n",
    "dataset.columns = cols\n",
    "dataset = dataset.drop('ID',axis=1)"
   ]
  },
  {
   "cell_type": "code",
   "execution_count": 13,
   "id": "e059ccf1",
   "metadata": {},
   "outputs": [],
   "source": [
    "x = pd.DataFrame()\n",
    "x = dataset.drop(['Diagnosis'],axis=1)\n",
    "\n",
    "y = np.where(dataset['Diagnosis'] == 'M', 0, 1) # Benign =1 Malignant=0\n",
    "y = pd.DataFrame(y)\n",
    "y.columns = ['Diagnosis']\n",
    "\n",
    "scaler = MinMaxScaler()\n",
    "scaler.fit(x)\n",
    "x = scaler.transform(x)\n",
    "x = pd.DataFrame(x)\n",
    "\n",
    "normalized_data = pd.concat([x,y],axis=1)\n",
    "x_pos = normalized_data[normalized_data['Diagnosis'] == 1] #Positive class = Benign\n",
    "x_neg = normalized_data[normalized_data['Diagnosis'] == 0] #Negative class = Malignant"
   ]
  },
  {
   "cell_type": "code",
   "execution_count": 14,
   "id": "52046898",
   "metadata": {},
   "outputs": [
    {
     "data": {
      "text/html": [
       "<div>\n",
       "<style scoped>\n",
       "    .dataframe tbody tr th:only-of-type {\n",
       "        vertical-align: middle;\n",
       "    }\n",
       "\n",
       "    .dataframe tbody tr th {\n",
       "        vertical-align: top;\n",
       "    }\n",
       "\n",
       "    .dataframe thead th {\n",
       "        text-align: right;\n",
       "    }\n",
       "</style>\n",
       "<table border=\"1\" class=\"dataframe\">\n",
       "  <thead>\n",
       "    <tr style=\"text-align: right;\">\n",
       "      <th></th>\n",
       "      <th>0</th>\n",
       "      <th>1</th>\n",
       "      <th>2</th>\n",
       "      <th>3</th>\n",
       "      <th>4</th>\n",
       "      <th>5</th>\n",
       "      <th>6</th>\n",
       "      <th>7</th>\n",
       "      <th>8</th>\n",
       "      <th>9</th>\n",
       "      <th>...</th>\n",
       "      <th>21</th>\n",
       "      <th>22</th>\n",
       "      <th>23</th>\n",
       "      <th>24</th>\n",
       "      <th>25</th>\n",
       "      <th>26</th>\n",
       "      <th>27</th>\n",
       "      <th>28</th>\n",
       "      <th>29</th>\n",
       "      <th>Diagnosis</th>\n",
       "    </tr>\n",
       "  </thead>\n",
       "  <tbody>\n",
       "    <tr>\n",
       "      <th>0</th>\n",
       "      <td>0.521037</td>\n",
       "      <td>0.022658</td>\n",
       "      <td>0.545989</td>\n",
       "      <td>0.363733</td>\n",
       "      <td>0.593753</td>\n",
       "      <td>0.792037</td>\n",
       "      <td>0.703140</td>\n",
       "      <td>0.731113</td>\n",
       "      <td>0.686364</td>\n",
       "      <td>0.605518</td>\n",
       "      <td>...</td>\n",
       "      <td>0.141525</td>\n",
       "      <td>0.668310</td>\n",
       "      <td>0.450698</td>\n",
       "      <td>0.601136</td>\n",
       "      <td>0.619292</td>\n",
       "      <td>0.568610</td>\n",
       "      <td>0.912027</td>\n",
       "      <td>0.598462</td>\n",
       "      <td>0.418864</td>\n",
       "      <td>0</td>\n",
       "    </tr>\n",
       "    <tr>\n",
       "      <th>1</th>\n",
       "      <td>0.643144</td>\n",
       "      <td>0.272574</td>\n",
       "      <td>0.615783</td>\n",
       "      <td>0.501591</td>\n",
       "      <td>0.289880</td>\n",
       "      <td>0.181768</td>\n",
       "      <td>0.203608</td>\n",
       "      <td>0.348757</td>\n",
       "      <td>0.379798</td>\n",
       "      <td>0.141323</td>\n",
       "      <td>...</td>\n",
       "      <td>0.303571</td>\n",
       "      <td>0.539818</td>\n",
       "      <td>0.435214</td>\n",
       "      <td>0.347553</td>\n",
       "      <td>0.154563</td>\n",
       "      <td>0.192971</td>\n",
       "      <td>0.639175</td>\n",
       "      <td>0.233590</td>\n",
       "      <td>0.222878</td>\n",
       "      <td>0</td>\n",
       "    </tr>\n",
       "    <tr>\n",
       "      <th>2</th>\n",
       "      <td>0.601496</td>\n",
       "      <td>0.390260</td>\n",
       "      <td>0.595743</td>\n",
       "      <td>0.449417</td>\n",
       "      <td>0.514309</td>\n",
       "      <td>0.431017</td>\n",
       "      <td>0.462512</td>\n",
       "      <td>0.635686</td>\n",
       "      <td>0.509596</td>\n",
       "      <td>0.211247</td>\n",
       "      <td>...</td>\n",
       "      <td>0.360075</td>\n",
       "      <td>0.508442</td>\n",
       "      <td>0.374508</td>\n",
       "      <td>0.483590</td>\n",
       "      <td>0.385375</td>\n",
       "      <td>0.359744</td>\n",
       "      <td>0.835052</td>\n",
       "      <td>0.403706</td>\n",
       "      <td>0.213433</td>\n",
       "      <td>0</td>\n",
       "    </tr>\n",
       "    <tr>\n",
       "      <th>3</th>\n",
       "      <td>0.210090</td>\n",
       "      <td>0.360839</td>\n",
       "      <td>0.233501</td>\n",
       "      <td>0.102906</td>\n",
       "      <td>0.811321</td>\n",
       "      <td>0.811361</td>\n",
       "      <td>0.565604</td>\n",
       "      <td>0.522863</td>\n",
       "      <td>0.776263</td>\n",
       "      <td>1.000000</td>\n",
       "      <td>...</td>\n",
       "      <td>0.385928</td>\n",
       "      <td>0.241347</td>\n",
       "      <td>0.094008</td>\n",
       "      <td>0.915472</td>\n",
       "      <td>0.814012</td>\n",
       "      <td>0.548642</td>\n",
       "      <td>0.884880</td>\n",
       "      <td>1.000000</td>\n",
       "      <td>0.773711</td>\n",
       "      <td>0</td>\n",
       "    </tr>\n",
       "    <tr>\n",
       "      <th>4</th>\n",
       "      <td>0.629893</td>\n",
       "      <td>0.156578</td>\n",
       "      <td>0.630986</td>\n",
       "      <td>0.489290</td>\n",
       "      <td>0.430351</td>\n",
       "      <td>0.347893</td>\n",
       "      <td>0.463918</td>\n",
       "      <td>0.518390</td>\n",
       "      <td>0.378283</td>\n",
       "      <td>0.186816</td>\n",
       "      <td>...</td>\n",
       "      <td>0.123934</td>\n",
       "      <td>0.506948</td>\n",
       "      <td>0.341575</td>\n",
       "      <td>0.437364</td>\n",
       "      <td>0.172415</td>\n",
       "      <td>0.319489</td>\n",
       "      <td>0.558419</td>\n",
       "      <td>0.157500</td>\n",
       "      <td>0.142595</td>\n",
       "      <td>0</td>\n",
       "    </tr>\n",
       "  </tbody>\n",
       "</table>\n",
       "<p>5 rows × 31 columns</p>\n",
       "</div>"
      ],
      "text/plain": [
       "          0         1         2         3         4         5         6  \\\n",
       "0  0.521037  0.022658  0.545989  0.363733  0.593753  0.792037  0.703140   \n",
       "1  0.643144  0.272574  0.615783  0.501591  0.289880  0.181768  0.203608   \n",
       "2  0.601496  0.390260  0.595743  0.449417  0.514309  0.431017  0.462512   \n",
       "3  0.210090  0.360839  0.233501  0.102906  0.811321  0.811361  0.565604   \n",
       "4  0.629893  0.156578  0.630986  0.489290  0.430351  0.347893  0.463918   \n",
       "\n",
       "          7         8         9  ...        21        22        23        24  \\\n",
       "0  0.731113  0.686364  0.605518  ...  0.141525  0.668310  0.450698  0.601136   \n",
       "1  0.348757  0.379798  0.141323  ...  0.303571  0.539818  0.435214  0.347553   \n",
       "2  0.635686  0.509596  0.211247  ...  0.360075  0.508442  0.374508  0.483590   \n",
       "3  0.522863  0.776263  1.000000  ...  0.385928  0.241347  0.094008  0.915472   \n",
       "4  0.518390  0.378283  0.186816  ...  0.123934  0.506948  0.341575  0.437364   \n",
       "\n",
       "         25        26        27        28        29  Diagnosis  \n",
       "0  0.619292  0.568610  0.912027  0.598462  0.418864          0  \n",
       "1  0.154563  0.192971  0.639175  0.233590  0.222878          0  \n",
       "2  0.385375  0.359744  0.835052  0.403706  0.213433          0  \n",
       "3  0.814012  0.548642  0.884880  1.000000  0.773711          0  \n",
       "4  0.172415  0.319489  0.558419  0.157500  0.142595          0  \n",
       "\n",
       "[5 rows x 31 columns]"
      ]
     },
     "execution_count": 14,
     "metadata": {},
     "output_type": "execute_result"
    }
   ],
   "source": [
    "normalized_data.head()"
   ]
  },
  {
   "cell_type": "markdown",
   "id": "fbd9c550",
   "metadata": {},
   "source": [
    "(b)\n",
    "Monte-Carlo Simulation\n",
    ": Repeat the following procedures for supervised, un-\n",
    "supervised, and semi-supervised learning\n",
    "M\n",
    "= 30 times, and use randomly se-\n",
    "lected train and test data (make sure you use 20% of both the positve and nega-\n",
    "tive classes as the test set). Then compare the\n",
    "average\n",
    "scores (accuracy, precision,\n",
    "recall,\n",
    "F\n",
    "1\n",
    "-score, and AUC) that you obtain from each algorithm."
   ]
  },
  {
   "cell_type": "markdown",
   "id": "98e5fd01",
   "metadata": {},
   "source": [
    "i.\n",
    "Supervised Learning:\n",
    "Train an\n",
    "L\n",
    "1\n",
    "-penalized SVM to classify the data.\n",
    "Use 5 fold cross validation to choose the penalty parameter. Use normalized\n",
    "data. Report the average accuracy, precision, recall,\n",
    "F\n",
    "1\n",
    "-score, and AUC, for\n",
    "both training and test sets over your\n",
    "M\n",
    "runs. Plot the ROC and report the\n",
    "confusion matrix for training and testing in one of the runs."
   ]
  },
  {
   "cell_type": "code",
   "execution_count": 24,
   "id": "968da74b",
   "metadata": {},
   "outputs": [],
   "source": [
    "final_sv_train_scores = {p:None for p in ['accuracy','precision','recall','fscore','auc']}\n",
    "final_sv_test_scores = {p:None for p in ['accuracy','precision','recall','fscore','auc']}\n",
    "\n",
    "sv_train_scores = {p:[] for p in ['accuracy','precision','recall','fscore','auc']}\n",
    "sv_test_scores = {p:[] for p in ['accuracy','precision','recall','fscore','auc']}\n"
   ]
  },
  {
   "cell_type": "code",
   "execution_count": 26,
   "id": "197fd385",
   "metadata": {},
   "outputs": [],
   "source": [
    "for i in range(1,31):\n",
    "    best_penalty = []\n",
    "    supervised_train_results = pd.DataFrame()\n",
    "    supervised_test_results = pd.DataFrame()\n",
    "    \n",
    "    x_test = pd.concat([x_pos.sample(frac=0.2),x_neg.sample(frac=0.2)])\n",
    "    x_train = normalized_data.drop(index=x_test.index.tolist())\n",
    "    y_train = x_train['Diagnosis']\n",
    "    y_test = x_test['Diagnosis']\n",
    "    x_test = x_test.drop(['Diagnosis'],axis=1)\n",
    "    x_train = x_train.drop(['Diagnosis'],axis=1)\n",
    "    \n",
    "    params = {'C':[0.1,1,10,100,1000]}\n",
    "    l_svc = LinearSVC(penalty='l1', dual = False, max_iter=1000000)\n",
    "    sv_classifier = GridSearchCV(l_svc, params, cv=5)\n",
    "    sv_classifier.fit(x_train,y_train)\n",
    "    best_penalty.append(sv_classifier.best_params_['C'])\n",
    "\n",
    "    supervised_train_results['y_true'] = y_train\n",
    "    supervised_train_results['y_pred'] = sv_classifier.predict(x_train)\n",
    "    supervised_test_results['y_true'] = y_test\n",
    "    supervised_test_results['y_pred'] = sv_classifier.predict(x_test)\n",
    "    \n",
    "    sv_train_scores['accuracy'].append(sv_classifier.score(x_train,y_train))\n",
    "    sv_test_scores['accuracy'].append(sv_classifier.score(x_test,y_test))\n",
    "    sv_train_scores['precision'].append(precision_score(supervised_train_results['y_true'],supervised_train_results['y_pred']))\n",
    "    sv_test_scores['precision'].append(precision_score(supervised_test_results['y_true'],supervised_test_results['y_pred']))\n",
    "    sv_train_scores['recall'].append(recall_score(supervised_train_results['y_true'],supervised_train_results['y_pred']))\n",
    "    sv_test_scores['recall'].append(recall_score(supervised_test_results['y_true'],supervised_test_results['y_pred']))\n",
    "    sv_train_scores['fscore'].append(f1_score(supervised_train_results['y_true'],supervised_train_results['y_pred']))\n",
    "    sv_test_scores['fscore'].append(f1_score(supervised_test_results['y_true'],supervised_test_results['y_pred']))\n",
    "\n",
    "    fpr,tpr,_ = roc_curve(supervised_train_results['y_true'],supervised_train_results['y_pred'])\n",
    "    area_uc = auc(fpr,tpr)\n",
    "    sv_train_scores['auc'].append(auc(fpr,tpr))\n",
    "\n",
    "    fpr,tpr,_ = roc_curve(supervised_test_results['y_true'],supervised_test_results['y_pred'])\n",
    "    area_uc = auc(fpr,tpr)\n",
    "    sv_test_scores['auc'].append(auc(fpr,tpr))\n",
    "\n",
    "    final_sv_train_scores['accuracy'] = np.mean(sv_train_scores['accuracy'])\n",
    "    final_sv_train_scores['precision'] = np.mean(sv_train_scores['precision'])\n",
    "    final_sv_train_scores['recall'] = np.mean(sv_train_scores['recall'])\n",
    "    final_sv_train_scores['fscore'] = np.mean(sv_train_scores['fscore'])\n",
    "    final_sv_train_scores['auc'] = np.mean(sv_train_scores['auc'])\n",
    "    \n",
    "    final_sv_test_scores['accuracy'] = np.mean(sv_test_scores['accuracy'])\n",
    "    final_sv_test_scores['precision'] = np.mean(sv_test_scores['precision'])\n",
    "    final_sv_test_scores['recall'] = np.mean(sv_test_scores['recall'])\n",
    "    final_sv_test_scores['fscore'] = np.mean(sv_test_scores['fscore'])\n",
    "    final_sv_test_scores['auc'] = np.mean(sv_test_scores['auc'])\n",
    "    "
   ]
  },
  {
   "cell_type": "code",
   "execution_count": 178,
   "id": "cb3d429c",
   "metadata": {},
   "outputs": [
    {
     "name": "stdout",
     "output_type": "stream",
     "text": [
      "Average Score over 30 Runs for Train set:  {'accuracy': 0.9855263157894735, 'precision': 0.9833177323728776, 'recall': 0.9938228438228439, 'fscore': 0.9885284258838123, 'auc': 0.982695735636912}\n",
      "\n",
      "\n",
      "Average Score over 30 Runs for Test set:  {'accuracy': 0.9622418879056048, 'precision': 0.9617816698309916, 'recall': 0.979342723004695, 'fscore': 0.9702753790496706, 'auc': 0.9563380281690141}\n"
     ]
    }
   ],
   "source": [
    "print('Average Score over 30 Runs for Train set: ', final_sv_train_scores)\n",
    "print('\\n')\n",
    "print('Average Score over 30 Runs for Test set: ', final_sv_test_scores)"
   ]
  },
  {
   "cell_type": "code",
   "execution_count": 29,
   "id": "e308b348",
   "metadata": {},
   "outputs": [
    {
     "name": "stdout",
     "output_type": "stream",
     "text": [
      "Confusion Matrix for train data: \n",
      " [[167   3]\n",
      " [  1 285]]\n",
      "Area under curve for train data:  0.9894282188399836\n"
     ]
    },
    {
     "data": {
      "image/png": "[encoded data removed]",
      "text/plain": [
       "<Figure size 432x288 with 1 Axes>"
      ]
     },
     "metadata": {
      "needs_background": "light"
     },
     "output_type": "display_data"
    }
   ],
   "source": [
    "cm = metrics.confusion_matrix(supervised_train_results['y_true'],supervised_train_results['y_pred'])\n",
    "print('Confusion Matrix for train data: \\n',cm)\n",
    "\n",
    "fpr,tpr,_ = roc_curve(supervised_train_results['y_true'],supervised_train_results['y_pred'])\n",
    "area_uc = auc(fpr,tpr)\n",
    "print('Area under curve for train data: ',area_uc)\n",
    "\n",
    "plt.figure()\n",
    "plt.plot(fpr,tpr,color='red',lw=2,label='ROC curve (area = %0.2f)' % area_uc)\n",
    "plt.plot([0, 1],[0, 1],color ='blue',lw=2,linestyle='--')\n",
    "plt.xlabel('False Positive Rate')\n",
    "plt.ylabel('True Positive Rate')\n",
    "plt.title('ROC Curve')\n",
    "plt.xlim([0.0, 1.0])\n",
    "plt.ylim([0.0, 1.10])\n",
    "plt.legend()\n",
    "plt.show()"
   ]
  },
  {
   "cell_type": "code",
   "execution_count": 30,
   "id": "f2d045c2",
   "metadata": {},
   "outputs": [
    {
     "name": "stdout",
     "output_type": "stream",
     "text": [
      "Confusion Matrix for Test data: \n",
      " [[34  8]\n",
      " [ 0 71]]\n",
      "Area under curve for test data:  0.9047619047619048\n"
     ]
    },
    {
     "data": {
      "image/png": "[encoded data removed]",
      "text/plain": [
       "<Figure size 432x288 with 1 Axes>"
      ]
     },
     "metadata": {
      "needs_background": "light"
     },
     "output_type": "display_data"
    }
   ],
   "source": [
    "cm = metrics.confusion_matrix(supervised_test_results['y_true'],supervised_test_results['y_pred'])\n",
    "print('Confusion Matrix for Test data: \\n',cm)\n",
    "\n",
    "fpr,tpr,_ = roc_curve(supervised_test_results['y_true'],supervised_test_results['y_pred'])\n",
    "area_uc = auc(fpr,tpr)\n",
    "print('Area under curve for test data: ',area_uc)\n",
    "\n",
    "plt.figure()\n",
    "plt.plot(fpr,tpr,color='red',lw=2,label='ROC curve (area = %0.2f)' % area_uc)\n",
    "plt.plot([0, 1],[0, 1],color='blue',lw=2,linestyle='--')\n",
    "plt.xlabel('False Positive Rate')\n",
    "plt.ylabel('True Positive Rate')\n",
    "plt.title('ROC Curve')\n",
    "plt.xlim([0.0, 1.0])\n",
    "plt.ylim([0.0, 1.10])\n",
    "plt.legend()\n",
    "plt.show()"
   ]
  },
  {
   "cell_type": "markdown",
   "id": "80af3471",
   "metadata": {},
   "source": [
    "ii.\n",
    "Semi-Supervised Learning/ Self-training:\n",
    "select 50% of the positive\n",
    "class along with 50% of the negative class in the training set as\n",
    "labeled data\n",
    "and the rest as\n",
    "unlabelled data\n",
    ". You can select them randomly.\n",
    "\n",
    "A.\n",
    "Train an\n",
    "L\n",
    "1\n",
    "-penalized SVM to classify the labeled data Use normalized\n",
    "data. Choose the penalty parameter using 5 fold cross validation.\n",
    "\n",
    "B.\n",
    "Find the unlabeled data point that is the farthest to the decision boundary\n",
    "of the SVM. Let the SVM label it (ignore its true label), and add it to\n",
    "the labeled data, and retrain the SVM. Continue this process until all\n",
    "unlabeled data are used. Test the final SVM on the test data andthe\n",
    "average accuracy, precision, recall,\n",
    "F\n",
    "1\n",
    "-score, and AUC, for both training\n",
    "and test sets over your\n",
    "M\n",
    "runs. Plot the ROC and report the confusion\n",
    "matrix for training and testing in one of the runs."
   ]
  },
  {
   "cell_type": "code",
   "execution_count": 55,
   "id": "1f20ea2a",
   "metadata": {},
   "outputs": [],
   "source": [
    "best_penalty=[]\n",
    "def fit_l1_svm(x_train,y_train):\n",
    "    params = {'C':[0.1,1,10,100,1000]}\n",
    "    l_svc = LinearSVC(penalty='l1', dual = False, max_iter=200000)\n",
    "    sv_classifier = GridSearchCV(l_svc, params, cv=5)\n",
    "    sv_classifier.fit(x_train,y_train)\n",
    "    best_penalty.append(sv_classifier.best_params_['C'])\n",
    "    return sv_classifier "
   ]
  },
  {
   "cell_type": "code",
   "execution_count": 38,
   "id": "cc7299b2",
   "metadata": {},
   "outputs": [
    {
     "name": "stdout",
     "output_type": "stream",
     "text": [
      "Best Weight of SVM penalty =  1\n"
     ]
    }
   ],
   "source": [
    "x_test = pd.concat([x_pos.sample(frac=0.2),x_neg.sample(frac=0.2)])\n",
    "x_train = normalized_data.drop(index=x_test.index.tolist())\n",
    "y_test = x_test['Diagnosis']\n",
    "y_train = x_train['Diagnosis']\n",
    "x_test = x_test.drop(['Diagnosis'],axis=1)\n",
    "x_train = x_train.drop(['Diagnosis'],axis=1)\n",
    "    \n",
    "x_label, x_unlabel, y_label, y_unlabel = train_test_split(x_train, y_train, test_size=0.50, stratify=y_train)\n",
    "\n",
    "x_label = x_label.reset_index(drop=True)\n",
    "y_label = y_label.reset_index(drop=True)\n",
    "x_unlabel = x_unlabel.reset_index(drop=True)\n",
    "y_unlabel = pd.DataFrame(y_unlabel)\n",
    "y_unlabel = y_unlabel.reset_index(drop=True)\n",
    "\n",
    "trained_svm = fit_l1_svm(x_label,y_label)\n",
    "print('Best Weight of SVM penalty = ', trained_svm.best_params_['C'])"
   ]
  },
  {
   "cell_type": "code",
   "execution_count": 39,
   "id": "e2a030f6",
   "metadata": {},
   "outputs": [],
   "source": [
    "final_semi_train_scores = {p:None for p in ['accuracy','precision','recall','fscore','auc']}\n",
    "final_semi_test_scores = {p:None for p in ['accuracy','precision','recall','fscore','auc']}\n",
    "\n",
    "semi_train_scores = {p:[] for p in ['accuracy','precision','recall','fscore','auc']}\n",
    "semi_test_scores = {p:[] for p in ['accuracy','precision','recall','fscore','auc']}"
   ]
  },
  {
   "cell_type": "code",
   "execution_count": 142,
   "id": "50cbb8c1",
   "metadata": {
    "scrolled": true
   },
   "outputs": [],
   "source": [
    "for i in range(1,31):\n",
    "    x_test = pd.concat([x_pos.sample(frac=0.2),x_neg.sample(frac=0.2)])\n",
    "    x_train = normalized_data.drop(index=x_test.index.tolist())\n",
    "    y_test = x_test['Diagnosis']\n",
    "    y_train = x_train['Diagnosis']\n",
    "    x_test = x_test.drop(['Diagnosis'],axis=1)\n",
    "    x_train = x_train.drop(['Diagnosis'],axis=1)\n",
    "\n",
    "    x_label, x_unlabel, y_label, y_unlabel = train_test_split(x_train,y_train,test_size=0.50,stratify=y_train)\n",
    "\n",
    "    x_label = x_label.reset_index(drop=True)\n",
    "    y_label = y_label.reset_index(drop=True)\n",
    "    x_unlabel = x_unlabel.reset_index(drop=True)\n",
    "    y_unlabel = pd.DataFrame(y_unlabel)\n",
    "    y_unlabel = y_unlabel.reset_index(drop=True)\n",
    "\n",
    "    trained_svm = fit_l1_svm(x_label,y_label)\n",
    "    \n",
    "    new_x_label = pd.DataFrame()\n",
    "    new_x_label = pd.concat([x_label,new_x_label],axis=0,ignore_index=True)\n",
    "    new_y_label = pd.DataFrame()\n",
    "    y_label = pd.DataFrame(y_label)\n",
    "    new_y_label = pd.concat([y_label,new_y_label],axis=0,ignore_index=True)\n",
    "    \n",
    "    while(len(x_unlabel)>0):\n",
    "    \n",
    "        a = trained_svm.decision_function(x_unlabel)\n",
    "        farthest_point_1 = np.array(x_unlabel.iloc[np.argmax(np.absolute(a))])\n",
    "        farthest_point_1 = farthest_point_1.reshape(1,-1)\n",
    "        label_pred = trained_svm.predict(farthest_point_1)\n",
    "        farthest_point_1 = pd.DataFrame(farthest_point_1)\n",
    "\n",
    "        new_x_label = pd.concat([new_x_label,farthest_point_1],axis=0,ignore_index=True)\n",
    "        farthest_point_1_y = np.array(label_pred)\n",
    "        farthest_point_1_y = farthest_point_1_y.reshape(1,-1)\n",
    "        farthest_point_1_y = pd.DataFrame(farthest_point_1_y)\n",
    "        farthest_point_1_y.columns = ['Diagnosis']\n",
    "        new_y_label = pd.concat([new_y_label,farthest_point_1_y],axis=0,ignore_index=True)\n",
    "\n",
    "        trained_svm = fit_l1_svm(new_x_label,np.ravel(new_y_label,order='C'))\n",
    "\n",
    "        x_unlabel = x_unlabel.drop(index=np.argmax(np.absolute(a)))\n",
    "        x_unlabel = x_unlabel.reset_index(drop=True)\n",
    "        y_unlabel = y_unlabel.drop(index=np.argmax(np.absolute(a)))\n",
    "        y_unlabel = y_unlabel.reset_index(drop=True)\n",
    "    \n",
    "    semi_test_results = pd.DataFrame()\n",
    "    semi_test_results['y_true'] = y_test\n",
    "    semi_test_results['y_pred'] = trained_svm.predict(x_test)\n",
    "    \n",
    "    semi_train_results = pd.DataFrame()\n",
    "    semi_train_results['y_true'] = y_train\n",
    "    semi_train_results['y_pred'] = trained_svm.predict(x_train)\n",
    "   \n",
    "    semi_train_scores['accuracy'].append(trained_svm.score(x_train,y_train))\n",
    "    semi_test_scores['accuracy'].append(trained_svm.score(x_test,y_test))\n",
    "    semi_train_scores['precision'].append(precision_score(semi_train_results['y_true'],semi_train_results['y_pred']))\n",
    "    semi_test_scores['precision'].append(precision_score(semi_test_results['y_true'],semi_test_results['y_pred']))\n",
    "    semi_train_scores['recall'].append(recall_score(semi_train_results['y_true'],semi_train_results['y_pred']))\n",
    "    semi_test_scores['recall'].append(recall_score(semi_test_results['y_true'],semi_test_results['y_pred']))\n",
    "    semi_train_scores['fscore'].append(f1_score(semi_train_results['y_true'],semi_train_results['y_pred']))\n",
    "    semi_test_scores['fscore'].append(f1_score(semi_test_results['y_true'],semi_test_results['y_pred']))\n",
    "\n",
    "    fpr,tpr,_ = roc_curve(semi_train_results['y_true'],semi_train_results['y_pred'])\n",
    "    area_uc = auc(fpr,tpr)\n",
    "    semi_train_scores['auc'].append(auc(fpr, tpr))\n",
    "\n",
    "    fpr,tpr,_ = roc_curve(semi_test_results['y_true'],semi_test_results['y_pred'])\n",
    "    area_uc = auc(fpr,tpr)\n",
    "    semi_test_scores['auc'].append(auc(fpr, tpr))\n",
    "\n",
    "    final_semi_train_scores['accuracy'] = np.mean(semi_train_scores['accuracy'])\n",
    "    final_semi_train_scores['precision'] = np.mean(semi_train_scores['precision'])\n",
    "    final_semi_train_scores['recall'] = np.mean(semi_train_scores['recall'])\n",
    "    final_semi_train_scores['fscore'] = np.mean(semi_train_scores['fscore'])\n",
    "    final_semi_train_scores['auc'] = np.mean(semi_train_scores['auc'])\n",
    "\n",
    "    final_semi_test_scores['accuracy'] = np.mean(semi_test_scores['accuracy'])\n",
    "    final_semi_test_scores['precision'] = np.mean(semi_test_scores['precision'])\n",
    "    final_semi_test_scores['recall'] = np.mean(semi_test_scores['recall'])\n",
    "    final_semi_test_scores['fscore'] = np.mean(semi_test_scores['fscore'])\n",
    "    final_semi_test_scores['auc'] = np.mean(semi_test_scores['auc'])\n",
    "    "
   ]
  },
  {
   "cell_type": "code",
   "execution_count": 179,
   "id": "14c68822",
   "metadata": {},
   "outputs": [
    {
     "name": "stdout",
     "output_type": "stream",
     "text": [
      "Average Score over 30 Runs for Train set: \n",
      "{'accuracy': 0.9759868421052632, 'precision': 0.9698553372271121, 'recall': 0.9927156177156176, 'fscore': 0.981099530309217, 'auc': 0.9702793774852598}\n",
      "\n",
      "\n",
      "Average Score over 30 Runs for Test set: \n",
      "{'accuracy': 0.9663716814159292, 'precision': 0.9665833771229759, 'recall': 0.9807511737089202, 'fscore': 0.9734418168424137, 'auc': 0.9614073328862062}\n"
     ]
    }
   ],
   "source": [
    "print('Average Score over 30 Runs for Train set: ')\n",
    "print(final_semi_train_scores)\n",
    "print('\\n')\n",
    "print('Average Score over 30 Runs for Test set: ')\n",
    "print(final_semi_test_scores)\n"
   ]
  },
  {
   "cell_type": "code",
   "execution_count": 143,
   "id": "daa6f899",
   "metadata": {},
   "outputs": [
    {
     "name": "stdout",
     "output_type": "stream",
     "text": [
      "Confusion Matrix for train data: \n",
      " [[165   5]\n",
      " [  2 284]]\n",
      "Area under curve for train data:  0.9817976141505552\n"
     ]
    },
    {
     "data": {
      "image/png": "[encoded data removed]",
      "text/plain": [
       "<Figure size 432x288 with 1 Axes>"
      ]
     },
     "metadata": {
      "needs_background": "light"
     },
     "output_type": "display_data"
    }
   ],
   "source": [
    "cm = metrics.confusion_matrix(semi_train_results['y_true'],semi_train_results['y_pred'])\n",
    "print('Confusion Matrix for train data: \\n',cm)\n",
    "\n",
    "fpr,tpr,_ = roc_curve(semi_train_results['y_true'],semi_train_results['y_pred'])\n",
    "area_uc = auc(fpr, tpr)\n",
    "print('Area under curve for train data: ',area_uc)\n",
    "\n",
    "plt.figure()\n",
    "plt.plot(fpr,tpr,color='red',lw=2,label='ROC curve (area = %0.2f)' % area_uc)\n",
    "plt.plot([0, 1],[0, 1],color='blue',lw=2,linestyle='--')\n",
    "plt.xlabel('False Positive Rate')\n",
    "plt.ylabel('True Positive Rate')\n",
    "plt.title('ROC Curve')\n",
    "plt.xlim([0.0, 1.0])\n",
    "plt.ylim([0.0, 1.10])\n",
    "plt.legend()\n",
    "plt.show()"
   ]
  },
  {
   "cell_type": "code",
   "execution_count": 144,
   "id": "58dfb77d",
   "metadata": {},
   "outputs": [
    {
     "name": "stdout",
     "output_type": "stream",
     "text": [
      "Confusion Matrix for Test data: \n",
      " [[40  2]\n",
      " [ 1 70]]\n",
      "Area under curve for test data:  0.9691482226693494\n"
     ]
    },
    {
     "data": {
      "image/png": "[encoded data removed]",
      "text/plain": [
       "<Figure size 432x288 with 1 Axes>"
      ]
     },
     "metadata": {
      "needs_background": "light"
     },
     "output_type": "display_data"
    }
   ],
   "source": [
    "cm = metrics.confusion_matrix(semi_test_results['y_true'],semi_test_results['y_pred'])\n",
    "print('Confusion Matrix for Test data: \\n',cm)\n",
    "\n",
    "fpr,tpr,_ = roc_curve(semi_test_results['y_true'],semi_test_results['y_pred'])\n",
    "area_uc = auc(fpr, tpr)\n",
    "print('Area under curve for test data: ',area_uc)\n",
    "\n",
    "plt.figure()\n",
    "plt.plot(fpr,tpr,color='red',lw=2,label='ROC curve (area = %0.2f)' % area_uc)\n",
    "plt.plot([0, 1],[0, 1],color='blue',lw=2,linestyle='--')\n",
    "plt.xlabel('False Positive Rate')\n",
    "plt.ylabel('True Positive Rate')\n",
    "plt.title('ROC Curve')\n",
    "plt.xlim([0.0, 1.0])\n",
    "plt.ylim([0.0, 1.10])\n",
    "plt.legend()\n",
    "plt.show()"
   ]
  },
  {
   "cell_type": "markdown",
   "id": "88349b14",
   "metadata": {},
   "source": [
    "iii.\n",
    "Unsupervised Learning:\n",
    "Run k-means algorithm on the whole training\n",
    "set. Ignore the labels of the data, and assume\n",
    "k\n",
    "= 2.\n",
    "\n",
    "A.\n",
    "Run the k-means algorithm multiple times. Make sure that you initialize\n",
    "the algoritm randomly. How do you make sure that the algorithm was\n",
    "not trapped in a local minimum?"
   ]
  },
  {
   "cell_type": "code",
   "execution_count": 129,
   "id": "5c3321ca",
   "metadata": {},
   "outputs": [],
   "source": [
    "final_unsup_train_scores = {p:None for p in ['accuracy','precision','recall','fscore','auc']}\n",
    "final_unsup_test_scores = {p:None for p in ['accuracy','precision','recall','fscore','auc']}\n",
    "\n",
    "unsup_train_scores = {p:[] for p in ['accuracy','precision','recall','fscore','auc']}\n",
    "unsup_test_scores = {p:[] for p in ['accuracy','precision','recall','fscore','auc']}"
   ]
  },
  {
   "cell_type": "code",
   "execution_count": 150,
   "id": "218a86e2",
   "metadata": {},
   "outputs": [],
   "source": [
    "for i in range(1,31):\n",
    "    x_test = pd.concat([x_pos.sample(frac=0.2),x_neg.sample(frac=0.2)])\n",
    "    x_train = normalized_data.drop(index=x_test.index.tolist())\n",
    "    y_test = x_test['Diagnosis']\n",
    "    y_train = x_train['Diagnosis']\n",
    "    x_test = x_test.drop(['Diagnosis'],axis=1)\n",
    "    x_train = x_train.drop(['Diagnosis'],axis=1)\n",
    "\n",
    "    x_label, x_unlabel, y_label, y_unlabel = train_test_split(x_train, y_train, test_size=0.50, stratify=y_train)\n",
    "\n",
    "    x_train = x_train.reset_index(drop=True)\n",
    "    y_train = y_train.reset_index(drop=True)\n",
    "    x_test = x_test.reset_index(drop=True)\n",
    "    y_test = y_test.reset_index(drop=True)\n",
    "\n",
    "    k_means = KMeans(n_clusters=2,init='k-means++',random_state=random.randint(0,200)).fit(x_train)\n",
    "    clus_dist= k_means.transform(x_train)\n",
    "    nn = NearestNeighbors(n_neighbors=30,algorithm='brute').fit(x_train)\n",
    "    distances,indices = nn.kneighbors(k_means.cluster_centers_)\n",
    "\n",
    "    clus_0 = y_train.loc[indices[0]]\n",
    "    clus_1 = y_train.loc[indices[1]]\n",
    "    maj_poll_clus_0 = clus_0.value_counts()\n",
    "    maj_poll_clus_1 = clus_1.value_counts()\n",
    "\n",
    "    pred_labels = k_means.labels_\n",
    "    pred_labels = pd.DataFrame(pred_labels)\n",
    "    pred_labels_0 = pred_labels[pred_labels[0]==0]\n",
    "    pred_labels_1 = pred_labels[pred_labels[0]==1]\n",
    "\n",
    "    max_index_0 = np.argmax(maj_poll_clus_0)\n",
    "    max_index_1 = np.argmax(maj_poll_clus_1)\n",
    "    pred_labels_0['class'] = max_index_0\n",
    "    pred_labels_1['class'] = max_index_1\n",
    "    final_pred_y = pd.concat([pred_labels_0['class'],pred_labels_1['class']],axis=0)\n",
    "    final_pred_y = final_pred_y.sort_index()\n",
    "   \n",
    "    unsup_test_results = pd.DataFrame()\n",
    "    unsup_test_results['y_true'] = y_test\n",
    "    unsup_test_results['y_pred'] = k_means.predict(x_test)\n",
    "\n",
    "    unsup_train_scores['accuracy'].append(accuracy_score(y_train,final_pred_y))\n",
    "    unsup_test_scores['accuracy'].append(accuracy_score(unsup_test_results['y_true'],unsup_test_results['y_pred']))\n",
    "    unsup_train_scores['precision'].append(precision_score(y_train,final_pred_y))\n",
    "    unsup_test_scores['precision'].append(precision_score(unsup_test_results['y_true'],unsup_test_results['y_pred']))\n",
    "    unsup_train_scores['recall'].append(recall_score(y_train,final_pred_y))\n",
    "    unsup_test_scores['recall'].append(recall_score(unsup_test_results['y_true'],unsup_test_results['y_pred']))\n",
    "    unsup_train_scores['fscore'].append(f1_score(y_train,final_pred_y))\n",
    "    unsup_test_scores['fscore'].append(f1_score(unsup_test_results['y_true'],unsup_test_results['y_pred']))\n",
    "\n",
    "    fpr,tpr,_ = roc_curve(y_train,final_pred_y)\n",
    "    area_uc = auc(fpr,tpr)\n",
    "    unsup_train_scores['auc'].append(auc(fpr, tpr))\n",
    "\n",
    "    fpr,tpr,_ = roc_curve(unsup_test_results['y_true'],unsup_test_results['y_pred'])\n",
    "    area_uc = auc(fpr,tpr)\n",
    "    unsup_test_scores['auc'].append(auc(fpr, tpr))\n",
    "\n",
    "    final_unsup_train_scores['accuracy'] = np.mean(unsup_train_scores['accuracy'])\n",
    "    final_unsup_train_scores['precision'] = np.mean(unsup_train_scores['precision'])\n",
    "    final_unsup_train_scores['recall'] = np.mean(unsup_train_scores['recall'])\n",
    "    final_unsup_train_scores['fscore'] = np.mean(unsup_train_scores['fscore'])\n",
    "    final_unsup_train_scores['auc'] = np.mean(unsup_train_scores['auc'])\n",
    " \n",
    "    final_unsup_test_scores['accuracy'] = np.mean(unsup_test_scores['accuracy'])\n",
    "    final_unsup_test_scores['precision'] = np.mean(unsup_test_scores['precision'])\n",
    "    final_unsup_test_scores['recall'] = np.mean(unsup_test_scores['recall'])\n",
    "    final_unsup_test_scores['fscore'] = np.mean(unsup_test_scores['fscore'])\n",
    "    final_unsup_test_scores['auc'] = np.mean(unsup_test_scores['auc'])\n",
    "    "
   ]
  },
  {
   "cell_type": "code",
   "execution_count": 180,
   "id": "6e1bb9b3",
   "metadata": {},
   "outputs": [
    {
     "name": "stdout",
     "output_type": "stream",
     "text": [
      "Average Score over 30 Runs for Train set: \n",
      "{'accuracy': 0.37280701754385975, 'precision': 0.0, 'recall': 0.0, 'fscore': 0.0, 'auc': 0.5}\n",
      "\n",
      "\n",
      "Average Score over 30 Runs for Test set: \n",
      "{'accuracy': 0.41868239921337264, 'precision': 0.39770034003820953, 'recall': 0.40978090766823166, 'fscore': 0.4013964264803483, 'auc': 0.4217555331991951}\n"
     ]
    }
   ],
   "source": [
    "print('Average Score over 30 Runs for Train set: ')\n",
    "print(final_unsup_train_scores)\n",
    "print('\\n')\n",
    "print('Average Score over 30 Runs for Test set: ')\n",
    "print(final_unsup_test_scores)"
   ]
  },
  {
   "cell_type": "code",
   "execution_count": 167,
   "id": "d626affd",
   "metadata": {},
   "outputs": [
    {
     "name": "stdout",
     "output_type": "stream",
     "text": [
      "Confusion Matrix for train data: \n",
      " [[170   0]\n",
      " [286   0]]\n",
      "Area under curve for train data:  0.5\n"
     ]
    },
    {
     "data": {
      "image/png": "[encoded data removed]",
      "text/plain": [
       "<Figure size 432x288 with 1 Axes>"
      ]
     },
     "metadata": {
      "needs_background": "light"
     },
     "output_type": "display_data"
    }
   ],
   "source": [
    "cm = metrics.confusion_matrix(y_train,final_pred_y)\n",
    "print('Confusion Matrix for train data: \\n',cm)\n",
    "\n",
    "fpr, tpr, _ = roc_curve(y_train,final_pred_y)\n",
    "area_uc = auc(fpr, tpr)\n",
    "print('Area under curve for train data: ',area_uc)\n",
    "\n",
    "plt.figure()\n",
    "plt.plot(fpr,tpr,color='red',lw=2,label='ROC curve (area = %0.2f)' % area_uc)\n",
    "plt.plot([0, 1],[0, 1],color='blue',lw=2,linestyle='--')\n",
    "plt.xlabel('False Positive Rate')\n",
    "plt.ylabel('True Positive Rate')\n",
    "plt.title('ROC Curve')\n",
    "plt.xlim([0.0, 1.0])\n",
    "plt.ylim([0.0, 1.10])\n",
    "plt.legend()\n",
    "plt.show()\n"
   ]
  },
  {
   "cell_type": "code",
   "execution_count": 169,
   "id": "bc1fece1",
   "metadata": {},
   "outputs": [
    {
     "name": "stdout",
     "output_type": "stream",
     "text": [
      "Confusion Matrix for test data:\n",
      " [[36  6]\n",
      " [ 1 70]]\n",
      "Area under curve for test data: 0.9215291750503019\n"
     ]
    },
    {
     "data": {
      "image/png": "[encoded data removed]",
      "text/plain": [
       "<Figure size 432x288 with 1 Axes>"
      ]
     },
     "metadata": {
      "needs_background": "light"
     },
     "output_type": "display_data"
    }
   ],
   "source": [
    "cm = metrics.confusion_matrix(unsup_test_results['y_true'],unsup_test_results['y_pred'])\n",
    "print('Confusion Matrix for test data: \\n',cm)\n",
    "\n",
    "fpr, tpr, _ = roc_curve(unsup_test_results['y_true'],unsup_test_results['y_pred'])\n",
    "area_uc = auc(fpr, tpr)\n",
    "print('Area under curve for test data: ',area_uc)\n",
    "\n",
    "plt.figure()\n",
    "plt.plot(fpr, tpr, color='red',lw=2, label='ROC curve (area = %0.2f)' % area_uc)\n",
    "plt.plot([0, 1], [0, 1], color='blue', lw=2, linestyle='--')\n",
    "plt.xlabel('False Positive Rate')\n",
    "plt.ylabel('True Positive Rate')\n",
    "plt.title('ROC Curve')\n",
    "plt.xlim([0.0, 1.0])\n",
    "plt.ylim([0.0, 1.10])\n",
    "plt.legend()\n",
    "plt.show()"
   ]
  },
  {
   "cell_type": "markdown",
   "id": "ec7faaf1",
   "metadata": {},
   "source": [
    "iv.\n",
    "Spectral Clustering\n",
    ": Repeat 1(b)iii using\n",
    "spectral clustering\n",
    ", which is clus-\n",
    "tering based on kernels.\n",
    "3\n",
    "Research what spectral clustering is. Use RBF\n",
    "kernel with gamma=1 or find a gamma for which the two clutsres have the\n",
    "same balance as the one in original data set (if the positive class has\n",
    "p\n",
    "and the\n",
    "negative class has\n",
    "n\n",
    "samples, the two clusters must have\n",
    "p\n",
    "and\n",
    "n\n",
    "members).\n",
    "Do not label data based on their proximity to cluster center, because spectral\n",
    "clustering may give you non-convex clusters . Instead, use\n",
    "fit\n",
    "−\n",
    "predict\n",
    "method."
   ]
  },
  {
   "cell_type": "code",
   "execution_count": 181,
   "id": "4aaf6260",
   "metadata": {},
   "outputs": [],
   "source": [
    "final_spec_train_scores = {p:None for p in ['accuracy','precision','recall','fscore','auc']}\n",
    "final_spec_test_scores = {p:None for p in ['accuracy','precision','recall','fscore','auc']}\n",
    "\n",
    "spec_train_scores = {p:[] for p in ['accuracy','precision','recall','fscore','auc']}\n",
    "spec_test_scores = {p:[] for p in ['accuracy','precision','recall','fscore','auc']}\n"
   ]
  },
  {
   "cell_type": "code",
   "execution_count": 182,
   "id": "cf041b94",
   "metadata": {},
   "outputs": [],
   "source": [
    "for i in range(1,31):\n",
    "    x_test = pd.concat([x_pos.sample(frac=0.2),x_neg.sample(frac=0.2)])\n",
    "    x_train = normalized_data.drop(index=x_test.index.tolist())\n",
    "    y_test = x_test['Diagnosis']\n",
    "    y_train = x_train['Diagnosis']\n",
    "    x_test = x_test.drop(['Diagnosis'],axis=1)\n",
    "    x_train = x_train.drop(['Diagnosis'],axis=1)\n",
    "\n",
    "    x_label, x_unlabel, y_label, y_unlabel = train_test_split(x_train, y_train, test_size=0.50, stratify=y_train)\n",
    "\n",
    "    x_train = x_train.reset_index(drop=True)\n",
    "    y_train = y_train.reset_index(drop=True)\n",
    "    x_test = x_test.reset_index(drop=True)\n",
    "    y_test = y_test.reset_index(drop=True)\n",
    "    \n",
    "    spec_clus = SpectralClustering(n_clusters=2,affinity='rbf',random_state=random.randint(0,200)).fit(x_train)\n",
    "    spec_clus_labels = pd.DataFrame(spec_clus.labels_)\n",
    "    spec_clus_label_0 = spec_clus_labels[spec_clus_labels[0]==0].index\n",
    "    spec_clus_label_1 = spec_clus_labels[spec_clus_labels[0]==1].index\n",
    "    spec_clus_0 = x_train.iloc[spec_clus_label_0,:]\n",
    "    spec_clus_1 = x_train.iloc[spec_clus_label_1,:]\n",
    "    \n",
    "    centers = pd.DataFrame()\n",
    "    center_0 = spec_clus_0.mean(axis=0)\n",
    "    center_1 = spec_clus_1.mean(axis=0)\n",
    "    centers[0] = center_0\n",
    "    centers[1] = center_1\n",
    "\n",
    "    nn = NearestNeighbors(n_neighbors=30,algorithm='brute').fit(x_train)\n",
    "    distances, indices = nn.kneighbors(centers.T)\n",
    "\n",
    "    spec_clus_0 = y_train.loc[indices[0]]\n",
    "    spec_clus_1 = y_train.loc[indices[1]]\n",
    "    maj_poll_clus_0 = spec_clus_0.value_counts()\n",
    "    maj_poll_clus_1 = spec_clus_1.value_counts()\n",
    "\n",
    "    pred_labels_spec = k_means.labels_\n",
    "    pred_labels_spec = pd.DataFrame(pred_labels_spec)\n",
    "    pred_labels_spec_0 = pred_labels_spec[pred_labels_spec[0]==0]\n",
    "    pred_labels_spec_1 = pred_labels_spec[pred_labels_spec[0]==1]\n",
    "\n",
    "    max_index_spec_0 = np.argmax(maj_poll_clus_0)\n",
    "    max_index_spec_1 = np.argmax(maj_poll_clus_1)\n",
    "    pred_labels_spec_0['class'] = max_index_spec_0\n",
    "    pred_labels_spec_1['class'] = max_index_spec_1\n",
    "    final_pred_spec_y = pd.concat([pred_labels_spec_0['class'],pred_labels_spec_1['class']],axis=0)\n",
    "    final_pred_spec_y = final_pred_spec_y.sort_index()\n",
    "    \n",
    "    spec_test_results = pd.DataFrame()\n",
    "    spec_test_results['y_true'] = y_test\n",
    "    spec_test_results['y_pred'] = spec_clus.fit_predict(x_test)\n",
    "\n",
    "    spec_train_scores['accuracy'].append(accuracy_score(y_train,final_pred_spec_y))\n",
    "    spec_test_scores['accuracy'].append(accuracy_score(spec_test_results['y_true'],spec_test_results['y_pred']))\n",
    "    spec_train_scores['precision'].append(precision_score(y_train,final_pred_spec_y))\n",
    "    spec_test_scores['precision'].append(precision_score(spec_test_results['y_true'],spec_test_results['y_pred']))\n",
    "    spec_train_scores['recall'].append(recall_score(y_train,final_pred_spec_y))\n",
    "    spec_test_scores['recall'].append(recall_score(spec_test_results['y_true'],spec_test_results['y_pred']))\n",
    "    spec_train_scores['fscore'].append(f1_score(y_train,final_pred_spec_y))\n",
    "    spec_test_scores['fscore'].append(f1_score(spec_test_results['y_true'],spec_test_results['y_pred']))\n",
    "\n",
    "    fpr,tpr,_ = roc_curve(y_train,final_pred_spec_y)\n",
    "    area_uc = auc(fpr,tpr)\n",
    "    spec_train_scores['auc'].append(auc(fpr,tpr))\n",
    "\n",
    "    fpr,tpr,_ = roc_curve(spec_test_results['y_true'],spec_test_results['y_pred'])\n",
    "    area_uc = auc(fpr,tpr)\n",
    "    spec_test_scores['auc'].append(auc(fpr, tpr))\n",
    "\n",
    "    final_spec_train_scores['accuracy'] = np.mean(spec_train_scores['accuracy'])\n",
    "    final_spec_train_scores['precision'] = np.mean(spec_train_scores['precision'])\n",
    "    final_spec_train_scores['recall'] = np.mean(spec_train_scores['recall'])\n",
    "    final_spec_train_scores['fscore'] = np.mean(spec_train_scores['fscore'])\n",
    "    final_spec_train_scores['auc'] = np.mean(spec_train_scores['auc'])\n",
    "\n",
    "    final_spec_test_scores['accuracy'] = np.mean(spec_test_scores['accuracy'])\n",
    "    final_spec_test_scores['precision'] = np.mean(spec_test_scores['precision'])\n",
    "    final_spec_test_scores['recall'] = np.mean(spec_test_scores['recall'])\n",
    "    final_spec_test_scores['fscore'] = np.mean(spec_test_scores['fscore'])\n",
    "    final_spec_test_scores['auc'] = np.mean(spec_test_scores['auc'])\n"
   ]
  },
  {
   "cell_type": "code",
   "execution_count": 183,
   "id": "a09a2d54",
   "metadata": {},
   "outputs": [
    {
     "name": "stdout",
     "output_type": "stream",
     "text": [
      "Average Score over 30 Runs for Train set: \n",
      "{'accuracy': 0.37280701754385964, 'precision': 0.0, 'recall': 0.0, 'fscore': 0.0, 'auc': 0.5}\n",
      "\n",
      "\n",
      "Average Score over 30 Runs for Test set: \n",
      "{'accuracy': 0.4454277286135693, 'precision': 0.3496692332796731, 'recall': 0.4014084507042253, 'fscore': 0.3714814898537712, 'auc': 0.4606248602727475}\n"
     ]
    }
   ],
   "source": [
    "print('Average Score over 30 Runs for Train set: ')\n",
    "print(final_spec_train_scores)\n",
    "print('\\n')\n",
    "print('Average Score over 30 Runs for Test set: ')\n",
    "print(final_spec_test_scores)\n"
   ]
  },
  {
   "cell_type": "code",
   "execution_count": 184,
   "id": "1e233867",
   "metadata": {},
   "outputs": [
    {
     "name": "stdout",
     "output_type": "stream",
     "text": [
      "Confusion Matrix for train data: \n",
      " [[170   0]\n",
      " [286   0]]\n",
      "Area under curve for train data: 0.5\n"
     ]
    },
    {
     "data": {
      "image/png": "[encoded data removed]",
      "text/plain": [
       "<Figure size 432x288 with 1 Axes>"
      ]
     },
     "metadata": {
      "needs_background": "light"
     },
     "output_type": "display_data"
    }
   ],
   "source": [
    "cm = metrics.confusion_matrix(y_train,final_pred_spec_y)\n",
    "print('Confusion Matrix for train data: \\n',cm)\n",
    "\n",
    "fpr, tpr, _ = roc_curve(y_train,final_pred_spec_y)\n",
    "area_uc = auc(fpr, tpr)\n",
    "print('Area under curve for train data: ',area_uc)\n",
    "\n",
    "plt.figure()\n",
    "plt.plot(fpr, tpr, color='red',lw=2, label='ROC curve (area = %0.2f)' % area_uc)\n",
    "plt.plot([0, 1], [0, 1], color='blue', lw=2, linestyle='--')\n",
    "plt.xlabel('False Positive Rate')\n",
    "plt.ylabel('True Positive Rate')\n",
    "plt.title('ROC Curve')\n",
    "plt.xlim([0.0, 1.0])\n",
    "plt.ylim([0.0, 1.10])\n",
    "plt.legend()\n",
    "plt.show()"
   ]
  },
  {
   "cell_type": "code",
   "execution_count": 185,
   "id": "202bbada",
   "metadata": {},
   "outputs": [
    {
     "name": "stdout",
     "output_type": "stream",
     "text": [
      "Confusion Matrix for test data:\n",
      " [[30 12]\n",
      " [71  0]]\n",
      "Area under curve for test data: 0.35714285714285715\n"
     ]
    },
    {
     "data": {
      "image/png": "[encoded data removed]",
      "text/plain": [
       "<Figure size 432x288 with 1 Axes>"
      ]
     },
     "metadata": {
      "needs_background": "light"
     },
     "output_type": "display_data"
    }
   ],
   "source": [
    "cm = metrics.confusion_matrix(spec_test_results['y_true'],spec_test_results['y_pred'])\n",
    "print('Confusion Matrix for test data:\\n',cm)\n",
    "\n",
    "fpr, tpr, _ = roc_curve(spec_test_results['y_true'],spec_test_results['y_pred'])\n",
    "area_uc = auc(fpr, tpr)\n",
    "print('Area under curve for test data: ',area_uc)\n",
    "\n",
    "plt.figure()\n",
    "plt.plot(fpr, tpr, color='red',lw=2, label='ROC curve (area = %0.2f)' % area_uc)\n",
    "plt.plot([0, 1], [0, 1], color='blue', lw=2, linestyle='--')\n",
    "plt.xlabel('False Positive Rate')\n",
    "plt.ylabel('True Positive Rate')\n",
    "plt.title('ROC Curve')\n",
    "plt.xlim([0.0, 1.0])\n",
    "plt.ylim([0.0, 1.10])\n",
    "plt.legend()\n",
    "plt.show()"
   ]
  },
  {
   "cell_type": "code",
   "execution_count": 187,
   "id": "c7104eeb",
   "metadata": {},
   "outputs": [
    {
     "name": "stdout",
     "output_type": "stream",
     "text": [
      "Results for Test Data : \n",
      "\n"
     ]
    },
    {
     "data": {
      "text/html": [
       "<div>\n",
       "<style scoped>\n",
       "    .dataframe tbody tr th:only-of-type {\n",
       "        vertical-align: middle;\n",
       "    }\n",
       "\n",
       "    .dataframe tbody tr th {\n",
       "        vertical-align: top;\n",
       "    }\n",
       "\n",
       "    .dataframe thead th {\n",
       "        text-align: right;\n",
       "    }\n",
       "</style>\n",
       "<table border=\"1\" class=\"dataframe\">\n",
       "  <thead>\n",
       "    <tr style=\"text-align: right;\">\n",
       "      <th></th>\n",
       "      <th>Supervised</th>\n",
       "      <th>Semi-Supervised</th>\n",
       "      <th>Unsupervised - K-means</th>\n",
       "      <th>Unsupervised - Spectral</th>\n",
       "    </tr>\n",
       "  </thead>\n",
       "  <tbody>\n",
       "    <tr>\n",
       "      <th>accuracy</th>\n",
       "      <td>0.962242</td>\n",
       "      <td>0.966372</td>\n",
       "      <td>0.418682</td>\n",
       "      <td>0.445428</td>\n",
       "    </tr>\n",
       "    <tr>\n",
       "      <th>precision</th>\n",
       "      <td>0.961782</td>\n",
       "      <td>0.966583</td>\n",
       "      <td>0.397700</td>\n",
       "      <td>0.349669</td>\n",
       "    </tr>\n",
       "    <tr>\n",
       "      <th>recall</th>\n",
       "      <td>0.979343</td>\n",
       "      <td>0.980751</td>\n",
       "      <td>0.409781</td>\n",
       "      <td>0.401408</td>\n",
       "    </tr>\n",
       "    <tr>\n",
       "      <th>fscore</th>\n",
       "      <td>0.970275</td>\n",
       "      <td>0.973442</td>\n",
       "      <td>0.401396</td>\n",
       "      <td>0.371481</td>\n",
       "    </tr>\n",
       "    <tr>\n",
       "      <th>auc</th>\n",
       "      <td>0.956338</td>\n",
       "      <td>0.961407</td>\n",
       "      <td>0.421756</td>\n",
       "      <td>0.460625</td>\n",
       "    </tr>\n",
       "  </tbody>\n",
       "</table>\n",
       "</div>"
      ],
      "text/plain": [
       "           Supervised  Semi-Supervised  Unsupervised - K-means  \\\n",
       "accuracy     0.962242         0.966372                0.418682   \n",
       "precision    0.961782         0.966583                0.397700   \n",
       "recall       0.979343         0.980751                0.409781   \n",
       "fscore       0.970275         0.973442                0.401396   \n",
       "auc          0.956338         0.961407                0.421756   \n",
       "\n",
       "           Unsupervised - Spectral  \n",
       "accuracy                  0.445428  \n",
       "precision                 0.349669  \n",
       "recall                    0.401408  \n",
       "fscore                    0.371481  \n",
       "auc                       0.460625  "
      ]
     },
     "execution_count": 187,
     "metadata": {},
     "output_type": "execute_result"
    }
   ],
   "source": [
    "print('Results for Test Data : \\n')\n",
    "pd.DataFrame({'Supervised':final_sv_test_scores,\n",
    "              'Semi-Supervised':final_semi_test_scores,\n",
    "              'Unsupervised - K-means':final_unsup_test_scores,\n",
    "              'Unsupervised - Spectral':final_spec_test_scores})"
   ]
  },
  {
   "cell_type": "markdown",
   "id": "a95a9395",
   "metadata": {},
   "source": [
    "v.\n",
    "One can expect that supervised learning on the full data set works better than\n",
    "semi-supervised learning with half of the data set labeled.One can expect that\n",
    "unsupervised learning underperforms in such situations. Compare the results\n",
    "you obtained by those methods."
   ]
  },
  {
   "cell_type": "markdown",
   "id": "9027e7d5",
   "metadata": {},
   "source": [
    "\n",
    "Semi-Supervised learning performs better than Supervised learning but not significantly.\n",
    "\n",
    "Unsupervised learning underperforms. Its accuracy score is significantly lower than Supervised and Semi-Supervised.\n",
    "\n",
    "Spectral Clustering performs better than K-means Algorithm, with slightly higher accuracy score."
   ]
  }
 ],
 "metadata": {
  "kernelspec": {
   "display_name": "Python 3",
   "language": "python",
   "name": "python3"
  },
  "language_info": {
   "codemirror_mode": {
    "name": "ipython",
    "version": 3
   },
   "file_extension": ".py",
   "mimetype": "text/x-python",
   "name": "python",
   "nbconvert_exporter": "python",
   "pygments_lexer": "ipython3",
   "version": "3.8.8"
  }
 },
 "nbformat": 4,
 "nbformat_minor": 5
}
